{
 "cells": [
  {
   "cell_type": "markdown",
   "metadata": {},
   "source": [
    "# Welcome to Jupyter Notebooks\n",
    "----\n",
    "Lets begin...\n",
    "Start by clicking once on this text box to highlight it. Next, double clicking on this text box.\n",
    "\n",
    "This text box is called a cell and you should now be able to see that it is filled with raw text. This is called 'Edit Mode'.\n",
    "\n",
    "Now press Shift+Enter. The welcome text should have returned to its original form when you opened the notebook. The raw text has been 'rendered'. Notice that you cannot edit the text when it is in this form. This is called 'Command Mode'."
   ]
  },
  {
   "cell_type": "markdown",
   "metadata": {
    "collapsed": true
   },
   "source": [
    "Things to know about cells:\n",
    "- There are two main types of cells: Code and Markdown\n",
    "- The type of cell can be changed using the dropbox in the toolbar above.\n",
    "Try changing the type of this cell to 'Code' and pressing Shift+Enter and note what happens.\n",
    "\n",
    "Change the cell type back to 'Markdown' and press Shift+Enter."
   ]
  },
  {
   "cell_type": "markdown",
   "metadata": {},
   "source": [
    "# Markdown is a text editing engine that is helpful for organizing notes\n",
    "----\n",
    "\n",
    "It can be used to style headers:\n",
    "# This is a header\n",
    "## This is a subheader\n",
    "### This is a subsubheader\n",
    "\n",
    "It can be used to make lists:\n",
    "- This\n",
    "    - is\n",
    "        - my\n",
    "- Silly \n",
    "    - List\n",
    "    \n",
    "It can be used to insert fun or useful images:\n",
    "<img src=\"https://i.imgur.com/QG1ogV5.gif\" \\>\n",
    "\n",
    "It can be used to link to section headers:\n",
    "[Click on me](#Welcome-to-Jupyter-Notebooks)\n",
    "\n",
    "It can be used to style text:\n",
    "- *italics*\n",
    "- **bold**\n",
    "- ***bold italics***\n",
    "- __underline__\n",
    "\n",
    "\n",
    "Double click on this cell to see how text formatting is done.\n",
    "\n",
    "For a Markdown cheatsheet click [here](https://github.com/adam-p/markdown-here/wiki/Markdown-Cheatsheet#tables)."
   ]
  },
  {
   "cell_type": "markdown",
   "metadata": {
    "collapsed": true
   },
   "source": [
    "# Let's Try it Out\n",
    "----\n",
    "- Click on this cell to highlight it. Then click on the plus sign in the toolbar above. This will create a new cell below the highlighted cell. Notice that the new cell is defaulted to 'Code'.\n",
    "- Change the cell type to 'Markdown' and try adding the following:\n",
    "    - headers and subheaders\n",
    "    - styled text (bold, underline, italicize, etc.)\n",
    "    - 1 image or gif\n",
    "    - a link to a section header. \n",
    "    \n",
    "If you would like to delete your cell when you are done. Click on it once to highlight it and then press **D** twice, or click Edit -> Delete Cells.\n",
    " "
   ]
  },
  {
   "cell_type": "markdown",
   "metadata": {},
   "source": [
    "# So why use Jupyter notebooks over any other text editor?\n",
    "----\n",
    "Jupyter notebooks allow you to seamlessly integrate code into your notes. This will be very helpful as we are learning python. Lets see how it works now. \n",
    "\n",
    "Below is a function defined to take in a set of data and plot it. In order for the notebook to 'see' that it is there you need to highlight the cell and press Shift+Enter. Do this now.\n",
    "\n",
    "Don't worry too much about understanding how the code works. By the end of the python section in this class, it will be much more clear."
   ]
  },
  {
   "cell_type": "code",
   "execution_count": 1,
   "metadata": {},
   "outputs": [],
   "source": [
    "## Python methods used to read in and plot data\n",
    "import datetime as dt\n",
    "import matplotlib.pyplot as plt\n",
    "import numpy as np\n",
    "\n",
    "def read_geomag_data():\n",
    "    # Load rows of text and transpose to get collumns\n",
    "    mag_data = np.loadtxt(\"Geomag.txt\", dtype=str).T\n",
    "    # Convert string times to datetime objects\n",
    "    day_time = zip(mag_data[0], mag_data[1])\n",
    "    times = [dt.datetime.strptime(day+'_'+time, \"%Y-%m-%d_%H:%M:%S.%f\") for day, time in day_time]\n",
    "    # Get the components we want\n",
    "    x, y, z, f = mag_data[3], mag_data[4], mag_data[5], mag_data[6]\n",
    "    return times, x, y, z, f\n",
    "\n",
    "def plot_geomag_data(comp):\n",
    "    comp = comp.upper()\n",
    "    # Get the components using the defined method\n",
    "    times, x, y, z, f = read_geomag_data()\n",
    "    # Check if the character passed in is a valid choice\n",
    "    if comp != 'X' and comp != 'Y' and comp != 'Z' and comp != 'F':\n",
    "        print('You did not enter a valid choice. Please try again.')\n",
    "        return\n",
    "    # Plot the data\n",
    "    figure = plt.figure(figsize=(15,5))\n",
    "    plt.title(comp + ' Component Recorded at Boulder on January 9, 2017', fontsize=24)\n",
    "    plt.xlabel('Time', fontsize=18)\n",
    "    plt.ylabel('Magnetic Field [nT]', fontsize=18)\n",
    "    if comp == 'X':\n",
    "        plt.plot(times, x.astype(float), color='b')\n",
    "    elif comp == 'Y':\n",
    "        plt.plot(times, y.astype(float), color='k')\n",
    "    elif comp == 'Z':\n",
    "        plt.plot(times, z.astype(float), color='o')\n",
    "    else:\n",
    "        plt.plot(times, f.astype(float), color='m')\n",
    "        plt.title('Total Field Recorded at Boulder on January 9, 2017', fontsize=24)\n",
    "    plt.show()\n"
   ]
  },
  {
   "cell_type": "markdown",
   "metadata": {},
   "source": [
    "Now that you have pressed Shift+Enter on the cell above, it can be used to plot data. This step was important because jupyter notebooks do not automatically run from top to bottom (unless you press Kernel -> Restart and Run All). The kernel only recognizes assigned variables and defined methods if the cell containing them has been run previously.\n",
    "\n",
    "Today we will be looking at a set of geomagnetic data recorded at the [Boulder Observatory](https://geomag.usgs.gov/monitoring/observatories/boulder/). The data was collected on January 9, 2018, the first day of class. Take a look at the data by clicking [here](https://geomag.usgs.gov/ws/edge/?id=BOU&starttime=2018-01-09). Now look at the text file given to you today titled **Geomag.txt**. The header information has beenremoved using VIM. \n",
    "\n",
    "To view the data copy and paste `plot_geomag_data('f')` into the code cell below. You should see a plot appear. \n",
    "\n",
    "Next try replacing `'f'` with `'x'` or `'y'` or `'z'`.\n",
    "\n",
    "What happens when you replace the character with a letter other than x, y, z, or f?"
   ]
  },
  {
   "cell_type": "code",
   "execution_count": 2,
   "metadata": {},
   "outputs": [],
   "source": [
    "## Put your code below here\n"
   ]
  },
  {
   "cell_type": "markdown",
   "metadata": {},
   "source": [
    "# How is the Jupyter notebook running code?\n",
    "---\n",
    "Each notebook is associated with a kernel. In this case it is the [IPython kernel](http://jupyter-notebook-beginner-guide.readthedocs.io/en/latest/what_is_jupyter.html#kernel). You can see the kernel type in top right corner of the notebook. The circle next to it denotes whether a cell is being run by the kernel. If the circle is solid, then code is being run by the circle. \n",
    "\n",
    "- Try pressing Shift+Enter on a Markdown cell.\n",
    "- Try pressing Shift+Enter on a Code cell.\n",
    "\n",
    "In which case did the circle become solid denoting that code was being run?\n",
    "\n",
    "Markdown cells do not require the use of the kernel, since they are simply 'rendering' text, while Code cells make use of the IPython kernel.\n"
   ]
  },
  {
   "cell_type": "markdown",
   "metadata": {},
   "source": [
    "# Going Forward\n",
    "----\n",
    "Now that you have seen a Jupyter notebook in action begin by making your first notebook. We will now be transitioning from using VIM for our notes to using Jupyter. Start by taking note of anything you found interesting in this walkthrough and by looking at some of the helpful guides and resources listed below:\n",
    "- [Jupyter Notebook Tutorial from DataCamp](https://www.datacamp.com/community/tutorials/tutorial-jupyter-notebook)\n",
    "- [28 Jupyter Notebook tips, tricks, and shortcuts](https://www.dataquest.io/blog/jupyter-notebook-tips-tricks-shortcuts/)\n",
    "- [A bunch of interesting Jupyter notebooks](https://github.com/jupyter/jupyter/wiki/A-gallery-of-interesting-Jupyter-Notebooks)\n",
    "- [Project Jupyter](http://jupyter.org/)"
   ]
  },
  {
   "cell_type": "code",
   "execution_count": null,
   "metadata": {},
   "outputs": [],
   "source": []
  }
 ],
 "metadata": {
  "kernelspec": {
   "display_name": "Python 3",
   "language": "python",
   "name": "python3"
  },
  "language_info": {
   "codemirror_mode": {
    "name": "ipython",
    "version": 3
   },
   "file_extension": ".py",
   "mimetype": "text/x-python",
   "name": "python",
   "nbconvert_exporter": "python",
   "pygments_lexer": "ipython3",
   "version": "3.6.4"
  }
 },
 "nbformat": 4,
 "nbformat_minor": 2
}
